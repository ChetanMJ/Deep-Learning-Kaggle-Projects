{
 "cells": [
  {
   "cell_type": "markdown",
   "metadata": {
    "colab_type": "text",
    "id": "taSSqLtNRLaL"
   },
   "source": [
    "# Encoder-decoder for sequence-to-sequence tasks\n",
    "\n",
    "In this tutorial, we will walk through a minimal example of encoder-decoder with attention mechanism.\n",
    "\n",
    "This tutorial focuses on implementation. For basic concepts, refer to slides for lectures and recitations.\n",
    "\n",
    "\n"
   ]
  },
  {
   "cell_type": "markdown",
   "metadata": {
    "colab_type": "text",
    "id": "HdOqR2rl9W2e"
   },
   "source": [
    "## Toy task: English spelling to pronunciation\n",
    "\n",
    "We consider the same toy task as the last recitation, which is predicting the pronunciation (as sequence of phonemes) of an English word given its spelling.\n",
    "\n",
    "The model architecture and hyperparameters are for demonstration purpose only. Do not copy them to your actual homework."
   ]
  },
  {
   "cell_type": "code",
   "execution_count": 0,
   "metadata": {
    "colab": {},
    "colab_type": "code",
    "id": "i4n6x1c6RK5t"
   },
   "outputs": [],
   "source": [
    "# Words with only E, I, N, S, T.\n",
    "# Pronunciation is from http://www.speech.cs.cmu.edu/cgi-bin/pronounce\n",
    "data = [\n",
    "    ('SEE', 'S IY'),\n",
    "    ('SET', 'S EH T'),\n",
    "    ('SIT', 'S IH T'),\n",
    "    ('SITE', 'S AY T'),\n",
    "    ('SIN', 'S IH N'),\n",
    "    ('TEEN', 'T IY N'),\n",
    "    ('TIN', 'T IH N'),\n",
    "    ('TIE', 'T AY'),\n",
    "    ('TEST', 'T EH S T'),\n",
    "    ('NET', 'N EH T'),\n",
    "    ('NEET', 'N IY T'),\n",
    "    ('NINE', 'N AY N')\n",
    "]\n",
    "letters = 'EINST'\n",
    "# '<s>' for the beginning of sequence, '</s>' for the end of sequence, followed by actual phonemes\n",
    "phonemes = ['<s>', '</s>', 'S', 'T', 'N', 'IY', 'IH', 'EH', 'AY']"
   ]
  },
  {
   "cell_type": "markdown",
   "metadata": {
    "colab_type": "text",
    "id": "RuMEUUTJA9CY"
   },
   "source": [
    "Every target sequence is prepended with `<s>` and appended with `</s>`. This is necessary for the decoder to predict the first token and the end of the sequence."
   ]
  },
  {
   "cell_type": "code",
   "execution_count": 3,
   "metadata": {
    "colab": {
     "base_uri": "https://localhost:8080/",
     "height": 203
    },
    "colab_type": "code",
    "executionInfo": {
     "elapsed": 4970,
     "status": "ok",
     "timestamp": 1572009407388,
     "user": {
      "displayName": "Liwei Cai",
      "photoUrl": "",
      "userId": "16466533746106471957"
     },
     "user_tz": 240
    },
    "id": "DvetNUFwrQqd",
    "outputId": "b811a1b0-67d2-44bd-d00b-e6b8d96061e7"
   },
   "outputs": [
    {
     "ename": "NameError",
     "evalue": "name 'data' is not defined",
     "output_type": "error",
     "traceback": [
      "\u001b[0;31m---------------------------------------------------------------------------\u001b[0m",
      "\u001b[0;31mNameError\u001b[0m                                 Traceback (most recent call last)",
      "\u001b[0;32m<ipython-input-3-2f520633bfe4>\u001b[0m in \u001b[0;36m<module>\u001b[0;34m()\u001b[0m\n\u001b[1;32m      3\u001b[0m \u001b[0;32mfrom\u001b[0m \u001b[0mtorch\u001b[0m\u001b[0;34m.\u001b[0m\u001b[0mnn\u001b[0m\u001b[0;34m.\u001b[0m\u001b[0mutils\u001b[0m\u001b[0;34m.\u001b[0m\u001b[0mrnn\u001b[0m \u001b[0;32mimport\u001b[0m \u001b[0;34m*\u001b[0m\u001b[0;34m\u001b[0m\u001b[0m\n\u001b[1;32m      4\u001b[0m \u001b[0;34m\u001b[0m\u001b[0m\n\u001b[0;32m----> 5\u001b[0;31m \u001b[0mX\u001b[0m \u001b[0;34m=\u001b[0m \u001b[0;34m[\u001b[0m\u001b[0mtorch\u001b[0m\u001b[0;34m.\u001b[0m\u001b[0mLongTensor\u001b[0m\u001b[0;34m(\u001b[0m\u001b[0;34m[\u001b[0m\u001b[0mletters\u001b[0m\u001b[0;34m.\u001b[0m\u001b[0mfind\u001b[0m\u001b[0;34m(\u001b[0m\u001b[0mc\u001b[0m\u001b[0;34m)\u001b[0m \u001b[0;32mfor\u001b[0m \u001b[0mc\u001b[0m \u001b[0;32min\u001b[0m \u001b[0mword\u001b[0m\u001b[0;34m]\u001b[0m\u001b[0;34m)\u001b[0m \u001b[0;32mfor\u001b[0m \u001b[0mword\u001b[0m\u001b[0;34m,\u001b[0m \u001b[0m_\u001b[0m \u001b[0;32min\u001b[0m \u001b[0mdata\u001b[0m\u001b[0;34m]\u001b[0m\u001b[0;34m\u001b[0m\u001b[0m\n\u001b[0m\u001b[1;32m      6\u001b[0m \u001b[0mY\u001b[0m \u001b[0;34m=\u001b[0m \u001b[0;34m[\u001b[0m\u001b[0mtorch\u001b[0m\u001b[0;34m.\u001b[0m\u001b[0mLongTensor\u001b[0m\u001b[0;34m(\u001b[0m\u001b[0;34m[\u001b[0m\u001b[0mphonemes\u001b[0m\u001b[0;34m.\u001b[0m\u001b[0mindex\u001b[0m\u001b[0;34m(\u001b[0m\u001b[0mp\u001b[0m\u001b[0;34m)\u001b[0m \u001b[0;32mfor\u001b[0m \u001b[0mp\u001b[0m \u001b[0;32min\u001b[0m \u001b[0;34m(\u001b[0m\u001b[0;34m'<s> '\u001b[0m \u001b[0;34m+\u001b[0m \u001b[0mpron\u001b[0m \u001b[0;34m+\u001b[0m \u001b[0;34m' </s>'\u001b[0m\u001b[0;34m)\u001b[0m\u001b[0;34m.\u001b[0m\u001b[0msplit\u001b[0m\u001b[0;34m(\u001b[0m\u001b[0;34m)\u001b[0m\u001b[0;34m]\u001b[0m\u001b[0;34m)\u001b[0m\u001b[0;32mfor\u001b[0m \u001b[0m_\u001b[0m\u001b[0;34m,\u001b[0m \u001b[0mpron\u001b[0m \u001b[0;32min\u001b[0m \u001b[0mdata\u001b[0m\u001b[0;34m]\u001b[0m\u001b[0;34m\u001b[0m\u001b[0m\n\u001b[1;32m      7\u001b[0m \u001b[0mX_lens\u001b[0m \u001b[0;34m=\u001b[0m \u001b[0mtorch\u001b[0m\u001b[0;34m.\u001b[0m\u001b[0mLongTensor\u001b[0m\u001b[0;34m(\u001b[0m\u001b[0;34m[\u001b[0m\u001b[0mlen\u001b[0m\u001b[0;34m(\u001b[0m\u001b[0mseq\u001b[0m\u001b[0;34m)\u001b[0m \u001b[0;32mfor\u001b[0m \u001b[0mseq\u001b[0m \u001b[0;32min\u001b[0m \u001b[0mX\u001b[0m\u001b[0;34m]\u001b[0m\u001b[0;34m)\u001b[0m\u001b[0;34m\u001b[0m\u001b[0m\n",
      "\u001b[0;31mNameError\u001b[0m: name 'data' is not defined"
     ]
    }
   ],
   "source": [
    "import torch\n",
    "from torch import nn\n",
    "from torch.nn.utils.rnn import *\n",
    "\n",
    "X = [torch.LongTensor([letters.find(c) for c in word]) for word, _ in data]\n",
    "Y = [torch.LongTensor([phonemes.index(p) for p in ('<s> ' + pron + ' </s>').split()])for _, pron in data]\n",
    "X_lens = torch.LongTensor([len(seq) for seq in X])\n",
    "Y_lens = torch.LongTensor([len(seq) for seq in Y])\n",
    "X = pad_sequence(X)\n",
    "Y = pad_sequence(Y)\n",
    "print(X)\n",
    "print(Y)"
   ]
  },
  {
   "cell_type": "markdown",
   "metadata": {
    "colab_type": "text",
    "id": "T_NOuGorN0OV"
   },
   "source": [
    "## Encoder\n",
    "\n",
    "The encoder is just a one-layer bi-directional LSTM. The encoder returns not only the encoded sequence, but also the final hidden state of the LSTM, which will be the initial hidden state of the decoder.\n",
    "\n",
    "Size notation: `N` is the batch size, `T` is the maximum source sequence length, and `H` is the hidden size."
   ]
  },
  {
   "cell_type": "code",
   "execution_count": 0,
   "metadata": {
    "colab": {},
    "colab_type": "code",
    "id": "kTTWh27MNalc"
   },
   "outputs": [],
   "source": [
    "class Encoder(nn.Module):\n",
    "    def __init__(self, vocab_size, hidden_size):\n",
    "        super(Encoder, self).__init__()\n",
    "        self.embed = nn.Embedding(vocab_size, hidden_size)\n",
    "        self.lstm = nn.LSTM(hidden_size, hidden_size // 2, bidirectional=True)\n",
    "    \n",
    "    def forward(self, X, lengths):\n",
    "        \"\"\"\n",
    "        :param X: (N, T), source sequences\n",
    "        :param lengths: (N,), lengths of source sequences\n",
    "        :returns: (N, T, H) encoded source sequneces, and LSTM final states\n",
    "        \"\"\"\n",
    "        X = self.embed(X)\n",
    "        packed_X = pack_padded_sequence(X, lengths, enforce_sorted=False)\n",
    "        packed_out, state = self.lstm(packed_X)\n",
    "        out, _ = pad_packed_sequence(packed_out)\n",
    "        return out, state"
   ]
  },
  {
   "cell_type": "markdown",
   "metadata": {
    "colab_type": "text",
    "id": "Aj8Oc2seOWDF"
   },
   "source": [
    "## Attention\n",
    "\n",
    "This the simplest \"dot product\" attention, meaning that every attention logit is the dot product of a target (`query`) vector and a source (`context`) vector. Such an attention model has no parameter, but you may use more advanced attention mechanism with learnable parameters in real world.\n",
    "\n",
    "Since there are a lot of uncommon operators, every line of code is annotated with input and output tensor sizes. \n",
    "\n",
    "The attention vectors are not used by other computations, but are returned for visualization. You will often want to visualize the attention matrix when debugging sequence-to-sequence models."
   ]
  },
  {
   "cell_type": "code",
   "execution_count": 0,
   "metadata": {
    "colab": {},
    "colab_type": "code",
    "id": "NzH-Gi5MOVuX"
   },
   "outputs": [],
   "source": [
    "class Attention(nn.Module):\n",
    "    def __init__(self):\n",
    "        super(Attention, self).__init__()\n",
    "    \n",
    "    def forward(self, query, context, lengths):\n",
    "        \"\"\"\n",
    "        :param query: (N, H), decoder state of a single timestep\n",
    "        :param context: (N, T, H), encoded source sequences\n",
    "        :param lengths: (N,), lengths of source sequences\n",
    "        :returns: (N, H) attended source context, and (N, T) attention vectors\n",
    "        \"\"\"\n",
    "        # Compute (N, T) attention logits. \"bmm\" stands for \"batch matrix multiplication\".\n",
    "        # Input/output shape of bmm: (N, T, H), (N, H, 1) -> (N, T, 1)\n",
    "        attention = torch.bmm(context, query.unsqueeze(2)).squeeze(2)\n",
    "        # Create an (N, T) boolean mask for all padding positions\n",
    "        # Make use of broadcasting: (1, T), (N, 1) -> (N, T)\n",
    "        mask = torch.arange(context.size(1)).unsqueeze(0) >= lengths.unsqueeze(1)\n",
    "        # Set attention logits at padding positions to negative infinity.\n",
    "        attention.masked_fill_(mask, -1e9)\n",
    "        # Take softmax over the \"source length\" dimension.\n",
    "        attention = nn.functional.softmax(attention, dim=1)\n",
    "        # Compute attention-weighted sum of context vectors\n",
    "        # Input/output shape of bmm: (N, 1, T), (N, T, H) -> (N, 1, H)\n",
    "        out = torch.bmm(attention.unsqueeze(1), context).squeeze(1)\n",
    "        return out, attention"
   ]
  },
  {
   "cell_type": "code",
   "execution_count": 8,
   "metadata": {},
   "outputs": [],
   "source": [
    "lengths = torch.tensor([4,5,6])\n",
    "\n",
    "mask = torch.arange(10).unsqueeze(0) >= lengths.unsqueeze(1)"
   ]
  },
  {
   "cell_type": "code",
   "execution_count": 13,
   "metadata": {},
   "outputs": [],
   "source": [
    "a = torch.arange(30).view(3,10)"
   ]
  },
  {
   "cell_type": "code",
   "execution_count": 14,
   "metadata": {},
   "outputs": [
    {
     "data": {
      "text/plain": [
       "tensor([[          0,           1,           2,           3, -1000000000,\n",
       "         -1000000000, -1000000000, -1000000000, -1000000000, -1000000000],\n",
       "        [         10,          11,          12,          13,          14,\n",
       "         -1000000000, -1000000000, -1000000000, -1000000000, -1000000000],\n",
       "        [         20,          21,          22,          23,          24,\n",
       "                  25, -1000000000, -1000000000, -1000000000, -1000000000]])"
      ]
     },
     "execution_count": 14,
     "metadata": {},
     "output_type": "execute_result"
    }
   ],
   "source": [
    "a.masked_fill_(mask, -1e9)"
   ]
  },
  {
   "cell_type": "markdown",
   "metadata": {
    "colab_type": "text",
    "id": "Pq90LqVCSTOf"
   },
   "source": [
    "## Decoder\n",
    "\n",
    "Each `forward` call of decoder deals with only one timestep.\n",
    "\n",
    "Here, we use the LSTM output as the query of attention and concatenate the attended context with the LSTM output. There are many other (better) ways to use attention context in the decoder."
   ]
  },
  {
   "cell_type": "code",
   "execution_count": 0,
   "metadata": {
    "colab": {},
    "colab_type": "code",
    "id": "P4sMkFrlSSwF"
   },
   "outputs": [],
   "source": [
    "class Decoder(nn.Module):\n",
    "    def __init__(self, vocab_size, hidden_size):\n",
    "        super(Decoder, self).__init__()\n",
    "        self.embed = nn.Embedding(vocab_size, hidden_size)\n",
    "        self.lstm = nn.LSTMCell(hidden_size, hidden_size)\n",
    "        self.attention = Attention()\n",
    "        self.output = nn.Linear(hidden_size * 2, vocab_size, bias=False)\n",
    "\n",
    "    def forward(self, x, context, context_lengths, state=None):\n",
    "        \"\"\"\n",
    "        :param x: (N,), target tokens in the current timestep\n",
    "        :param context: (N, T, H), encoded source sequences\n",
    "        :param context_lengths: (N,) lengths of source sequences\n",
    "        :param state: LSTM hidden states from the last timestep (or from the encoder for the first step)\n",
    "        :returns: prediction of target tokens in the next timestep, LSTM hidden states of the current timestep, and attention vectors\n",
    "        \"\"\"\n",
    "        x = self.embed(x)\n",
    "        new_state = self.lstm(x, state)\n",
    "        x = new_state[0]\n",
    "        x_att, attention = self.attention(x, context, context_lengths)\n",
    "        x = torch.cat([x, x_att], dim=1)\n",
    "        return self.output(x), new_state, attention"
   ]
  },
  {
   "cell_type": "markdown",
   "metadata": {
    "colab_type": "text",
    "id": "mNBBNx-xEMc7"
   },
   "source": [
    "## Training\n",
    "\n",
    "In training, we feed ground truth tokens into the decoder one step at a time, and let it predict the next token.\n",
    "\n",
    "The loss function is just cross entropy loss, but only \"real\" tokens are counted, and padding tokens must be ignored. The loss of each batch is averaged over all \"real\" tokens."
   ]
  },
  {
   "cell_type": "code",
   "execution_count": 9,
   "metadata": {
    "colab": {
     "base_uri": "https://localhost:8080/",
     "height": 54
    },
    "colab_type": "code",
    "executionInfo": {
     "elapsed": 1267,
     "status": "ok",
     "timestamp": 1572009457224,
     "user": {
      "displayName": "Liwei Cai",
      "photoUrl": "",
      "userId": "16466533746106471957"
     },
     "user_tz": 240
    },
    "id": "g5tMaKTx9EiS",
    "outputId": "0f4a5e89-82a1-4356-9107-c2d75d6b44e9"
   },
   "outputs": [
    {
     "name": "stdout",
     "output_type": "stream",
     "text": [
      "Final train loss: 0.038733527064323425\n"
     ]
    }
   ],
   "source": [
    "torch.manual_seed(11785)\n",
    "encoder = Encoder(len(letters), 4)\n",
    "decoder = Decoder(len(phonemes), 4)\n",
    "# Sum over the batch at every timestep. We manually divide the total loss by number of tokens.\n",
    "criterion = nn.CrossEntropyLoss(reduction='sum')\n",
    "optimizer = torch.optim.Adam(list(encoder.parameters()) + list(decoder.parameters()), lr=0.1)\n",
    "\n",
    "loss_history = []\n",
    "\n",
    "for epoch in range(100):\n",
    "    context, state = encoder(X, X_lens)\n",
    "    # Context: (T, N, H) -> (N, T, H)\n",
    "    context = context.transpose(0, 1)\n",
    "    # Hidden states: (2, N, H) -> (N, 2*H)\n",
    "    state = tuple(st.transpose(0, 1).reshape(X.size(1), -1) for st in state)\n",
    "\n",
    "    loss = 0\n",
    "    # Number of \"real\" tokens\n",
    "    n_tokens = Y_lens.sum() - Y_lens.size(0)\n",
    "    # List of attention vectors\n",
    "    all_attentions = []\n",
    "    for i in range(Y.size(0) - 1):\n",
    "        out, state, attention = decoder(Y[i], context, X_lens, state)\n",
    "        all_attentions.append(attention.detach())\n",
    "        # Mask of sequenuces that haven't ended (i.e. current tokens are \"real\")\n",
    "        active = i + 1 < Y_lens\n",
    "        # Compute loss only on \"real\" outputs\n",
    "        loss += criterion(out[active], Y[i + 1, active])\n",
    "    # Divide by number of \"real\" tokens to get average loss\n",
    "    loss /= n_tokens\n",
    "    loss_history.append(loss.item())\n",
    "    # Assemble attention vectors at each timestep into attention matrix.\n",
    "    # The shape is (N, T_out, T_in)\n",
    "    all_attentions = torch.stack(all_attentions, dim=1)\n",
    "\n",
    "    optimizer.zero_grad()\n",
    "    loss.backward()\n",
    "    optimizer.step()\n",
    "\n",
    "print('Final train loss:', loss_history[-1])"
   ]
  },
  {
   "cell_type": "markdown",
   "metadata": {
    "colab_type": "text",
    "id": "65YXsSW40Ycf"
   },
   "source": [
    "## Visualize loss and attention\n",
    "\n",
    "The attention for this toy example doesn't work very well, but you should observe a clear diagonal on the attention matrix in the real life."
   ]
  },
  {
   "cell_type": "code",
   "execution_count": 18,
   "metadata": {
    "colab": {
     "base_uri": "https://localhost:8080/",
     "height": 1000
    },
    "colab_type": "code",
    "executionInfo": {
     "elapsed": 1237,
     "status": "ok",
     "timestamp": 1572010157718,
     "user": {
      "displayName": "Liwei Cai",
      "photoUrl": "",
      "userId": "16466533746106471957"
     },
     "user_tz": 240
    },
    "id": "gKxOLeZWi_MQ",
    "outputId": "1bc8c217-d1f2-4890-c949-79ea43c7d7a9"
   },
   "outputs": [
    {
     "data": {
      "image/png": "[encoded data removed]",
      "text/plain": [
       "<Figure size 432x288 with 1 Axes>"
      ]
     },
     "metadata": {
      "tags": []
     },
     "output_type": "display_data"
    },
    {
     "data": {
      "image/png": "[encoded data removed]",
      "text/plain": [
       "<Figure size 108x108 with 1 Axes>"
      ]
     },
     "metadata": {
      "tags": []
     },
     "output_type": "display_data"
    },
    {
     "data": {
      "image/png": "[encoded data removed]",
      "text/plain": [
       "<Figure size 108x144 with 1 Axes>"
      ]
     },
     "metadata": {
      "tags": []
     },
     "output_type": "display_data"
    },
    {
     "data": {
      "image/png": "[encoded data removed]",
      "text/plain": [
       "<Figure size 108x144 with 1 Axes>"
      ]
     },
     "metadata": {
      "tags": []
     },
     "output_type": "display_data"
    },
    {
     "data": {
      "image/png": "[encoded data removed]",
      "text/plain": [
       "<Figure size 144x144 with 1 Axes>"
      ]
     },
     "metadata": {
      "tags": []
     },
     "output_type": "display_data"
    },
    {
     "data": {
      "image/png": "[encoded data removed]",
      "text/plain": [
       "<Figure size 108x144 with 1 Axes>"
      ]
     },
     "metadata": {
      "tags": []
     },
     "output_type": "display_data"
    },
    {
     "data": {
      "image/png": "[encoded data removed]",
      "text/plain": [
       "<Figure size 144x144 with 1 Axes>"
      ]
     },
     "metadata": {
      "tags": []
     },
     "output_type": "display_data"
    },
    {
     "data": {
      "image/png": "[encoded data removed]",
      "text/plain": [
       "<Figure size 108x144 with 1 Axes>"
      ]
     },
     "metadata": {
      "tags": []
     },
     "output_type": "display_data"
    },
    {
     "data": {
      "image/png": "[encoded data removed]",
      "text/plain": [
       "<Figure size 108x108 with 1 Axes>"
      ]
     },
     "metadata": {
      "tags": []
     },
     "output_type": "display_data"
    },
    {
     "data": {
      "image/png": "[encoded data removed]",
      "text/plain": [
       "<Figure size 144x180 with 1 Axes>"
      ]
     },
     "metadata": {
      "tags": []
     },
     "output_type": "display_data"
    },
    {
     "data": {
      "image/png": "[encoded data removed]",
      "text/plain": [
       "<Figure size 108x144 with 1 Axes>"
      ]
     },
     "metadata": {
      "tags": []
     },
     "output_type": "display_data"
    },
    {
     "data": {
      "image/png": "[encoded data removed]",
      "text/plain": [
       "<Figure size 144x144 with 1 Axes>"
      ]
     },
     "metadata": {
      "tags": []
     },
     "output_type": "display_data"
    },
    {
     "data": {
      "image/png": "[encoded data removed]",
      "text/plain": [
       "<Figure size 144x144 with 1 Axes>"
      ]
     },
     "metadata": {
      "tags": []
     },
     "output_type": "display_data"
    }
   ],
   "source": [
    "import numpy as np\n",
    "import matplotlib.pyplot as plt\n",
    "\n",
    "plt.plot(loss_history)\n",
    "plt.show()\n",
    "\n",
    "for i in range(X.size(1)):\n",
    "    fig, ax = plt.subplots(figsize=(X_lens[i] * 0.5, (Y_lens[i] -  1) * 0.5))\n",
    "    ax.imshow(all_attentions[i, :Y_lens[i] - 1, :X_lens[i]].numpy())\n",
    "    ax.set_xticks(np.arange(X_lens[i]))\n",
    "    ax.set_yticks(np.arange(Y_lens[i] - 1))\n",
    "    ax.set_xticklabels(list(data[i][0]))\n",
    "    ax.set_yticklabels(data[i][1].split() + ['</s>'])\n",
    "    ax.set_ylim(Y_lens[i]-1.5, -0.5)\n",
    "    plt.show()"
   ]
  },
  {
   "cell_type": "markdown",
   "metadata": {
    "colab_type": "text",
    "id": "S1OpphkKqasy"
   },
   "source": [
    "## Decoding\n",
    "\n",
    "Here we demonstrate \"greedy decoding\", that is, choosing the token with the highest probability at every step. Beam search is the standard decoding algorithm nowadays, but is much harder to implement. Greedy decoding is equivalent to beam search with beam width of 1."
   ]
  },
  {
   "cell_type": "code",
   "execution_count": 0,
   "metadata": {
    "colab": {},
    "colab_type": "code",
    "id": "W9wgxDz-EYhn"
   },
   "outputs": [],
   "source": [
    "test_data = ['TEE', 'TINT', 'SINE', 'SENT']\n",
    "\n",
    "test_X = [torch.LongTensor([letters.find(c) for c in word]) for word in test_data]\n",
    "test_X_lens = torch.LongTensor([len(seq) for seq in test_X])\n",
    "test_X = pad_sequence(test_X)"
   ]
  },
  {
   "cell_type": "markdown",
   "metadata": {
    "colab_type": "text",
    "id": "D1BXn8rKkSEW"
   },
   "source": [
    "Here we decode one sample at a time. When using GPUs, it is favorable to decode a batch of samples at a time, to reduce GPU communication overhead."
   ]
  },
  {
   "cell_type": "code",
   "execution_count": 17,
   "metadata": {
    "colab": {
     "base_uri": "https://localhost:8080/",
     "height": 104
    },
    "colab_type": "code",
    "executionInfo": {
     "elapsed": 576,
     "status": "ok",
     "timestamp": 1572009845130,
     "user": {
      "displayName": "Liwei Cai",
      "photoUrl": "",
      "userId": "16466533746106471957"
     },
     "user_tz": 240
    },
    "id": "V5ugHvXknzU8",
    "outputId": "cbca3eb6-ef3e-46e0-9b56-021a1ea5b9aa"
   },
   "outputs": [
    {
     "name": "stdout",
     "output_type": "stream",
     "text": [
      "TEE -> S IY\n",
      "TINT -> T IH N\n",
      "SINE -> S AY N\n",
      "SENT -> S EH T\n"
     ]
    }
   ],
   "source": [
    "for i in range(test_X.size(1)):\n",
    "    context, state = encoder(test_X[:, i:i+1], test_X_lens[i:i+1])\n",
    "    context = context.transpose(0, 1)\n",
    "    state = tuple(st.transpose(0, 1).reshape(1, -1) for st in state)\n",
    "\n",
    "    input_token = torch.LongTensor([phonemes.index('<s>')])\n",
    "    seq = ['<s>']\n",
    "    # Must terminate the generation in a finite amount of steps.\n",
    "    while seq[-1] != '</s>' and len(seq) <= 10:\n",
    "        out, state, _ = decoder(input_token, context, test_X_lens[i:i+1], state)\n",
    "        # Get the most probable token, append it to the output sequence, and make it the next input token.\n",
    "        out_token = torch.argmax(out.squeeze())\n",
    "        seq.append(phonemes[out_token])\n",
    "        input_token = torch.LongTensor([out_token])\n",
    "    print(test_data[i], '->', ' '.join(seq[1:-1]))"
   ]
  }
 ],
 "metadata": {
  "colab": {
   "collapsed_sections": [],
   "name": "EncoderDecoder.ipynb",
   "provenance": []
  },
  "kernelspec": {
   "display_name": "Python 3",
   "language": "python",
   "name": "python3"
  },
  "language_info": {
   "codemirror_mode": {
    "name": "ipython",
    "version": 3
   },
   "file_extension": ".py",
   "mimetype": "text/x-python",
   "name": "python",
   "nbconvert_exporter": "python",
   "pygments_lexer": "ipython3",
   "version": "3.6.5"
  }
 },
 "nbformat": 4,
 "nbformat_minor": 1
}
