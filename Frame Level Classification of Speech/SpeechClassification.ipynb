{
 "cells": [
  {
   "cell_type": "code",
   "execution_count": 1,
   "metadata": {},
   "outputs": [
    {
     "data": {
      "text/plain": [
       "False"
      ]
     },
     "execution_count": 1,
     "metadata": {},
     "output_type": "execute_result"
    }
   ],
   "source": [
    "import numpy as np\n",
    "import torch\n",
    "import sys\n",
    "import torch.nn as nn\n",
    "import torch.nn.functional as F\n",
    "import torch.optim as optim\n",
    "\n",
    "from torch.utils import data\n",
    "from torchvision import transforms\n",
    "from torchvision.datasets import MNIST\n",
    "\n",
    "import matplotlib.pyplot as plt\n",
    "import time\n",
    "\n",
    "cuda = torch.cuda.is_available()\n",
    "cuda"
   ]
  },
  {
   "cell_type": "code",
   "execution_count": 31,
   "metadata": {},
   "outputs": [
    {
     "name": "stdout",
     "output_type": "stream",
     "text": [
      "(1100,)\n",
      "(625,)\n",
      "108\n"
     ]
    }
   ],
   "source": [
    "path = \"C:\\\\Users\\\\cheth\\\\OneDrive\\\\Documents\\\\DeepLearning\\\\HW1\\\\Part2\\\\11-785hw1p2-f19.tar\\\\11-785hw1p2-f19\\\\11-785hw1p2-f19\"\n",
    "\n",
    "x = np.load(path+\"\\\\dev.npy\", allow_pickle = True)\n",
    "y = np.load(path+\"\\\\dev_labels.npy\",allow_pickle = True )\n",
    "\n",
    "print(y.shape)\n",
    "print(y[0].shape)\n",
    "print(y[0][0])"
   ]
  },
  {
   "cell_type": "code",
   "execution_count": null,
   "metadata": {},
   "outputs": [],
   "source": [
    "k= 1\n",
    "feature_length = 40\n",
    "\n",
    "#final_input = np.zeros((1,(((2*k) + 1) * feature_length)), dtype = float)\n",
    "\n",
    "f = open('dev_input.txt', 'w')\n",
    "f.close()\n",
    "\n",
    "total_length = 0\n",
    "\n",
    "with open('dev_input.txt', 'a+') as outfile:\n",
    "    for i in range(len(x)):\n",
    "        #print(i)\n",
    "        utterance_length = x[i].shape[0]\n",
    "        total_length = total_length + utterance_length        \n",
    "        zero_padding = np.zeros((k,40), dtype = float)\n",
    "        input_tmp = np.append(zero_padding,x[i], axis = 0 )\n",
    "        input = np.append(input_tmp,zero_padding, axis = 0 )\n",
    "        flat_utterance = input.flatten()\n",
    "    \n",
    "        for j in range(utterance_length):\n",
    "            tmp1 = flat_utterance[(j*feature_length) : ((((2*k) + 1) * feature_length) + (j*feature_length))]\n",
    "            tmp2 = tmp1.reshape(1,(((2*k) + 1) * feature_length))\n",
    "            np.savetxt(outfile,tmp2)\n",
    "            \n",
    "\n",
    "with open('dev_labels.txt', 'a+') as outfile:\n",
    "    for i in range(len(y)):\n",
    "        print(i)\n",
    "        utterance_length = y[i].shape[0]\n",
    "    \n",
    "        for j in range(utterance_length):\n",
    "            np.savetxt(outfile,np.array([y[i][j]]))  "
   ]
  },
  {
   "cell_type": "code",
   "execution_count": 2,
   "metadata": {},
   "outputs": [
    {
     "name": "stdout",
     "output_type": "stream",
     "text": [
      "(675836, 120)\n"
     ]
    }
   ],
   "source": [
    "dev_data = np.loadtxt('dev_input.txt', delimiter=' ')\n",
    "print(dev_data.shape)"
   ]
  },
  {
   "cell_type": "code",
   "execution_count": 3,
   "metadata": {},
   "outputs": [
    {
     "name": "stdout",
     "output_type": "stream",
     "text": [
      "(675836,)\n"
     ]
    }
   ],
   "source": [
    "dev_labels = np.loadtxt('dev_labels.txt', delimiter=' ')\n",
    "print(dev_labels.shape)"
   ]
  },
  {
   "cell_type": "code",
   "execution_count": 20,
   "metadata": {},
   "outputs": [],
   "source": [
    "dev_data_torch = torch.tensor(dev_data, dtype = torch.float)"
   ]
  },
  {
   "cell_type": "code",
   "execution_count": 21,
   "metadata": {},
   "outputs": [],
   "source": [
    "dev_labels_torch = torch.tensor(dev_labels, dtype = torch.long)"
   ]
  },
  {
   "cell_type": "code",
   "execution_count": 12,
   "metadata": {},
   "outputs": [],
   "source": [
    "class MyDataset(data.Dataset):\n",
    "    def __init__(self, X, Y):\n",
    "        self.X = X\n",
    "        self.Y = Y\n",
    "\n",
    "    def __len__(self):\n",
    "        return len(self.Y)\n",
    "\n",
    "    def __getitem__(self,index):\n",
    "        X = self.X[index] #flatten the input\n",
    "        Y = self.Y[index]\n",
    "        return X,Y"
   ]
  },
  {
   "cell_type": "code",
   "execution_count": 22,
   "metadata": {},
   "outputs": [],
   "source": [
    "num_workers = 0 if sys.platform == 'win32' else 2\n",
    "    \n",
    "# Training\n",
    "train_dataset = MyDataset(dev_data_torch, dev_labels_torch)\n",
    "\n",
    "train_loader_args = dict(shuffle=True, batch_size=256, num_workers=num_workers, pin_memory=True) if cuda\\\n",
    "                    else dict(shuffle=True, batch_size=64)\n",
    "train_loader = data.DataLoader(train_dataset, **train_loader_args)\n",
    "\n",
    "# Testing\n",
    "#test_dataset = MyDataset(test.data, test.targets)\n",
    "\n",
    "test_dataset = MyDataset(dev_data_torch, dev_labels_torch)\n",
    "\n",
    "test_loader_args = dict(shuffle=False, batch_size=256, num_workers=num_workers, pin_memory=True) if cuda\\\n",
    "                    else dict(shuffle=False, batch_size=1)\n",
    "test_loader = data.DataLoader(test_dataset, **test_loader_args)"
   ]
  },
  {
   "cell_type": "code",
   "execution_count": 23,
   "metadata": {},
   "outputs": [],
   "source": [
    "# SIMPLE MODEL DEFINITION\n",
    "class Simple_MLP(nn.Module):\n",
    "    def __init__(self, size_list):\n",
    "        super(Simple_MLP, self).__init__()\n",
    "        layers = []\n",
    "        self.size_list = size_list\n",
    "        for i in range(len(size_list) - 2):\n",
    "            layers.append(nn.Linear(size_list[i],size_list[i+1]))\n",
    "            layers.append(nn.ReLU())\n",
    "        layers.append(nn.Linear(size_list[-2], size_list[-1]))\n",
    "        self.net = nn.Sequential(*layers)\n",
    "\n",
    "    def forward(self, x):\n",
    "        return self.net(x)"
   ]
  },
  {
   "cell_type": "code",
   "execution_count": 24,
   "metadata": {},
   "outputs": [
    {
     "name": "stdout",
     "output_type": "stream",
     "text": [
      "Simple_MLP(\n",
      "  (net): Sequential(\n",
      "    (0): Linear(in_features=120, out_features=40, bias=True)\n",
      "    (1): ReLU()\n",
      "    (2): Linear(in_features=40, out_features=138, bias=True)\n",
      "  )\n",
      ")\n"
     ]
    }
   ],
   "source": [
    "model = Simple_MLP([120, 40, 138])\n",
    "criterion = nn.CrossEntropyLoss()\n",
    "optimizer = optim.Adam(model.parameters())\n",
    "device = torch.device(\"cuda\" if cuda else \"cpu\")\n",
    "print(model)"
   ]
  },
  {
   "cell_type": "code",
   "execution_count": 25,
   "metadata": {},
   "outputs": [],
   "source": [
    "def train_epoch(model, train_loader, criterion, optimizer):\n",
    "    model.train()\n",
    "    model.to(device)\n",
    "\n",
    "    running_loss = 0.0\n",
    "    \n",
    "    start_time = time.time()\n",
    "    for batch_idx, (data, target) in enumerate(train_loader):   \n",
    "        optimizer.zero_grad()   # .backward() accumulates gradients\n",
    "        data = data.to(device)\n",
    "        target = target.to(device) # all data & model on same device\n",
    "\n",
    "        outputs = model(data)\n",
    "        loss = criterion(outputs, target)\n",
    "        running_loss += loss.item()\n",
    "\n",
    "        loss.backward()\n",
    "        optimizer.step()\n",
    "    \n",
    "    end_time = time.time()\n",
    "    \n",
    "    running_loss /= len(train_loader)\n",
    "    print('Training Loss: ', running_loss, 'Time: ',end_time - start_time, 's')\n",
    "    return running_loss"
   ]
  },
  {
   "cell_type": "code",
   "execution_count": 26,
   "metadata": {},
   "outputs": [],
   "source": [
    "def test_model(model, test_loader, criterion):\n",
    "    with torch.no_grad():\n",
    "        model.eval()\n",
    "        model.to(device)\n",
    "\n",
    "        running_loss = 0.0\n",
    "        total_predictions = 0.0\n",
    "        correct_predictions = 0.0\n",
    "\n",
    "        for batch_idx, (data, target) in enumerate(test_loader):   \n",
    "            data = data.to(device)\n",
    "            target = target.to(device)\n",
    "\n",
    "            outputs = model(data)\n",
    "\n",
    "            _, predicted = torch.max(outputs.data, 1)\n",
    "            total_predictions += target.size(0)\n",
    "            correct_predictions += (predicted == target).sum().item()\n",
    "\n",
    "            loss = criterion(outputs, target).detach()\n",
    "            running_loss += loss.item()\n",
    "\n",
    "\n",
    "        running_loss /= len(test_loader)\n",
    "        acc = (correct_predictions/total_predictions)*100.0\n",
    "        print('Testing Loss: ', running_loss)\n",
    "        print('Testing Accuracy: ', acc, '%')\n",
    "        return running_loss, acc"
   ]
  },
  {
   "cell_type": "code",
   "execution_count": 27,
   "metadata": {},
   "outputs": [
    {
     "name": "stdout",
     "output_type": "stream",
     "text": [
      "Training Loss:  3.6969856057203176 Time:  25.7490074634552 s\n",
      "Testing Loss:  3.3326930831861703\n",
      "Testing Accuracy:  21.92854479489107 %\n",
      "====================\n",
      "Training Loss:  3.1772812677378006 Time:  30.85515570640564 s\n",
      "Testing Loss:  3.173152941182673\n",
      "Testing Accuracy:  24.49573565184453 %\n",
      "====================\n",
      "Training Loss:  3.1202179962261156 Time:  30.59987998008728 s\n",
      "Testing Loss:  3.165633770898519\n",
      "Testing Accuracy:  23.662397386348168 %\n",
      "====================\n",
      "Training Loss:  3.0941799758961706 Time:  29.989518404006958 s\n",
      "Testing Loss:  3.0633400600920866\n",
      "Testing Accuracy:  24.74712800146781 %\n",
      "====================\n",
      "Training Loss:  3.069237320983049 Time:  31.42664861679077 s\n",
      "Testing Loss:  3.0343963473942925\n",
      "Testing Accuracy:  26.123201486751224 %\n",
      "====================\n",
      "Training Loss:  3.0493419998297187 Time:  30.74669122695923 s\n",
      "Testing Loss:  3.033871616457128\n",
      "Testing Accuracy:  25.359702649755267 %\n",
      "====================\n",
      "Training Loss:  3.0383343567225065 Time:  31.5475013256073 s\n",
      "Testing Loss:  3.126314701721434\n",
      "Testing Accuracy:  23.78520824578744 %\n",
      "====================\n",
      "Training Loss:  3.0253705221595184 Time:  29.573583126068115 s\n",
      "Testing Loss:  2.9833980544353955\n",
      "Testing Accuracy:  25.984262454204867 %\n",
      "====================\n",
      "Training Loss:  3.0158434849796874 Time:  30.48802137374878 s\n",
      "Testing Loss:  2.9657302986288405\n",
      "Testing Accuracy:  27.033333530619853 %\n",
      "====================\n",
      "Training Loss:  3.006399405273524 Time:  29.48240065574646 s\n",
      "Testing Loss:  2.991620201093656\n",
      "Testing Accuracy:  26.63412425499677 %\n",
      "====================\n"
     ]
    }
   ],
   "source": [
    "n_epochs = 10\n",
    "Train_loss = []\n",
    "Test_loss = []\n",
    "Test_acc = []\n",
    "\n",
    "for i in range(n_epochs):\n",
    "    train_loss = train_epoch(model, train_loader, criterion, optimizer)\n",
    "    test_loss, test_acc = test_model(model, test_loader, criterion)\n",
    "    Train_loss.append(train_loss)\n",
    "    Test_loss.append(test_loss)\n",
    "    Test_acc.append(test_acc)\n",
    "    print('='*20)"
   ]
  },
  {
   "cell_type": "code",
   "execution_count": 28,
   "metadata": {},
   "outputs": [
    {
     "data": {
      "text/plain": [
       "[<matplotlib.lines.Line2D at 0x29d0ae946a0>]"
      ]
     },
     "execution_count": 28,
     "metadata": {},
     "output_type": "execute_result"
    },
    {
     "data": {
      "image/png": "[encoded data removed]",
      "text/plain": [
       "<Figure size 432x288 with 1 Axes>"
      ]
     },
     "metadata": {
      "needs_background": "light"
     },
     "output_type": "display_data"
    }
   ],
   "source": [
    "plt.title('Training Loss')\n",
    "plt.xlabel('Epoch Number')\n",
    "plt.ylabel('Loss')\n",
    "plt.plot(Train_loss)"
   ]
  },
  {
   "cell_type": "code",
   "execution_count": 29,
   "metadata": {},
   "outputs": [
    {
     "data": {
      "text/plain": [
       "[<matplotlib.lines.Line2D at 0x29d0b65f6a0>]"
      ]
     },
     "execution_count": 29,
     "metadata": {},
     "output_type": "execute_result"
    },
    {
     "data": {
      "image/png": "[encoded data removed]",
      "text/plain": [
       "<Figure size 432x288 with 1 Axes>"
      ]
     },
     "metadata": {
      "needs_background": "light"
     },
     "output_type": "display_data"
    }
   ],
   "source": [
    "plt.title('Test Loss')\n",
    "plt.xlabel('Epoch Number')\n",
    "plt.ylabel('Loss')\n",
    "plt.plot(Test_loss)"
   ]
  },
  {
   "cell_type": "code",
   "execution_count": 30,
   "metadata": {},
   "outputs": [
    {
     "data": {
      "text/plain": [
       "[<matplotlib.lines.Line2D at 0x29d0b62c7f0>]"
      ]
     },
     "execution_count": 30,
     "metadata": {},
     "output_type": "execute_result"
    },
    {
     "data": {
      "image/png": "[encoded data removed]",
      "text/plain": [
       "<Figure size 432x288 with 1 Axes>"
      ]
     },
     "metadata": {
      "needs_background": "light"
     },
     "output_type": "display_data"
    }
   ],
   "source": [
    "plt.title('Test Accuracy')\n",
    "plt.xlabel('Epoch Number')\n",
    "plt.ylabel('Accuracy (%)')\n",
    "plt.plot(Test_acc)\n",
    "\n"
   ]
  }
 ],
 "metadata": {
  "kernelspec": {
   "display_name": "Python 3",
   "language": "python",
   "name": "python3"
  },
  "language_info": {
   "codemirror_mode": {
    "name": "ipython",
    "version": 3
   },
   "file_extension": ".py",
   "mimetype": "text/x-python",
   "name": "python",
   "nbconvert_exporter": "python",
   "pygments_lexer": "ipython3",
   "version": "3.7.3"
  }
 },
 "nbformat": 4,
 "nbformat_minor": 2
}
